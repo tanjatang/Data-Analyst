{
  "cells": [
    {
      "cell_type": "markdown",
      "metadata": {
        "id": "view-in-github",
        "colab_type": "text"
      },
      "source": [
        "<a href=\"https://colab.research.google.com/github/tanjatang/Data-Analyst/blob/main/Welcome_To_Colaboratory.ipynb\" target=\"_parent\"><img src=\"https://colab.research.google.com/assets/colab-badge.svg\" alt=\"Open In Colab\"/></a>"
      ]
    },
    {
      "cell_type": "code",
      "source": [
        "import pandas as pd\n",
        "import numpy as np\n",
        "import csv\n",
        "import os\n",
        "from prettytable import PrettyTable\n",
        "\n",
        "test_0=pd.read_csv(\"/content/test_0.csv\")"
      ],
      "metadata": {
        "id": "VbxXzHFQpEUO"
      },
      "execution_count": 107,
      "outputs": []
    },
    {
      "cell_type": "code",
      "source": [
        "test_0.iloc[0,:]"
      ],
      "metadata": {
        "colab": {
          "base_uri": "https://localhost:8080/"
        },
        "id": "__U0Kq87qIMF",
        "outputId": "92c83c95-fa86-4448-fae6-ca779769217d"
      },
      "execution_count": 108,
      "outputs": [
        {
          "output_type": "execute_result",
          "data": {
            "text/plain": [
              "id                                                                1.0\n",
              "x                   [-1.8316832780838013, -1.7337852716445923, -1....\n",
              "y                   [2.89721417427063, 2.8768293857574463, 2.85868...\n",
              "yaw                 [-0.21673284471035004, -0.19385024905204773, -...\n",
              "break_point_id                                                [0, 33]\n",
              "break_point_type                                              [34, 0]\n",
              "start               -4.853127632273804,3.5904868454156595,-0.23441...\n",
              "target                                         0,0,1.5707963267948966\n",
              "Name: 0, dtype: object"
            ]
          },
          "metadata": {},
          "execution_count": 108
        }
      ]
    },
    {
      "cell_type": "code",
      "source": [
        "len(test_0['start'])"
      ],
      "metadata": {
        "colab": {
          "base_uri": "https://localhost:8080/"
        },
        "id": "SOXJzL7sqlkL",
        "outputId": "6e3e761b-2d7c-48b8-e726-89c083569be7"
      },
      "execution_count": 109,
      "outputs": [
        {
          "output_type": "execute_result",
          "data": {
            "text/plain": [
              "12"
            ]
          },
          "metadata": {},
          "execution_count": 109
        }
      ]
    },
    {
      "cell_type": "code",
      "source": [
        "# import repr\n",
        "list(map(float,test_0['start'][1].split(\",\")))"
      ],
      "metadata": {
        "colab": {
          "base_uri": "https://localhost:8080/"
        },
        "id": "kGGuezLPrYRe",
        "outputId": "d500d883-e2ef-4fe6-e501-e966e839da99"
      },
      "execution_count": 110,
      "outputs": [
        {
          "output_type": "execute_result",
          "data": {
            "text/plain": [
              "[-4.853127632273804, 3.5904868454156595, -0.2344162163911077]"
            ]
          },
          "metadata": {},
          "execution_count": 110
        }
      ]
    },
    {
      "cell_type": "code",
      "source": [
        "test_0['break_point_id']"
      ],
      "metadata": {
        "colab": {
          "base_uri": "https://localhost:8080/"
        },
        "id": "2zOP6R9c__wl",
        "outputId": "647b1b37-5a07-46b0-8fbb-8a21101f0c2a"
      },
      "execution_count": 111,
      "outputs": [
        {
          "output_type": "execute_result",
          "data": {
            "text/plain": [
              "0     [0, 33]\n",
              "1     [0, 33]\n",
              "2     [0, 33]\n",
              "3     [0, 33]\n",
              "4     [0, 33]\n",
              "5     [0, 33]\n",
              "6     [0, 33]\n",
              "7     [0, 33]\n",
              "8     [0, 33]\n",
              "9     [0, 33]\n",
              "10    [0, 33]\n",
              "11    [0, 33]\n",
              "Name: break_point_id, dtype: object"
            ]
          },
          "metadata": {},
          "execution_count": 111
        }
      ]
    },
    {
      "cell_type": "code",
      "source": [
        "list(map(float,test_0['break_point_type'][0].strip('[').strip(']').split(',')))\n"
      ],
      "metadata": {
        "colab": {
          "base_uri": "https://localhost:8080/"
        },
        "id": "JR46865gGvIy",
        "outputId": "c2efc605-1bd0-48b2-8ae7-970771099b39"
      },
      "execution_count": 112,
      "outputs": [
        {
          "output_type": "execute_result",
          "data": {
            "text/plain": [
              "[34.0, 0.0]"
            ]
          },
          "metadata": {},
          "execution_count": 112
        }
      ]
    },
    {
      "cell_type": "code",
      "source": [
        "start_x = []\n",
        "start_y = []\n",
        "start_yaw = []\n",
        "target_x = []\n",
        "target_y = []\n",
        "target_yaw = []\n",
        "type_ = []\n",
        "breakpoints = []\n",
        "for start in test_0['start']:\n",
        "  start=list(map(float,start.split(\",\")))\n",
        "  start_x.append(start[0]) \n",
        "  start_y.append(start[1])\n",
        "  start_yaw.append(start[2])\n",
        "for target in test_0['target']:\n",
        "  target=list(map(float,target.split(\",\")))\n",
        "  target_x.append(target[0]) \n",
        "  target_y.append(target[1])\n",
        "  target_yaw.append(target[-1]) \n",
        "for ty in test_0['break_point_type']:\n",
        "  ty=list(map(float,ty.strip('[').strip(']').split(',')))\n",
        "  # ty=list(map(float,ty.split(\",\")))\n",
        "  type_.append(ty[0])\n",
        "for offset in test_0['break_point_id']:\n",
        "  offset=list(map(float,offset.strip('[').strip(']').split(',')))\n",
        "  # offset=list(map(float,offset.split(\",\")))\n",
        "  breakpoints.append(offset[-1])\n"
      ],
      "metadata": {
        "id": "fSuAg-DPr1bJ"
      },
      "execution_count": 113,
      "outputs": []
    },
    {
      "cell_type": "code",
      "source": [
        "data = zip(start_x,start_y,start_yaw,target_x,target_y,target_yaw,type_,breakpoints)"
      ],
      "metadata": {
        "id": "X4djWe-kCLtz"
      },
      "execution_count": 114,
      "outputs": []
    },
    {
      "cell_type": "code",
      "source": [
        "values =list(data)"
      ],
      "metadata": {
        "id": "8sKJN64bCs59"
      },
      "execution_count": 115,
      "outputs": []
    },
    {
      "cell_type": "code",
      "source": [
        "len(values)"
      ],
      "metadata": {
        "colab": {
          "base_uri": "https://localhost:8080/"
        },
        "id": "gVlDrZA5NfcJ",
        "outputId": "304baa58-5fc1-4f69-dc70-a7eaa7929abe"
      },
      "execution_count": 116,
      "outputs": [
        {
          "output_type": "execute_result",
          "data": {
            "text/plain": [
              "12"
            ]
          },
          "metadata": {},
          "execution_count": 116
        }
      ]
    },
    {
      "cell_type": "code",
      "source": [
        "values[0]"
      ],
      "metadata": {
        "colab": {
          "base_uri": "https://localhost:8080/"
        },
        "id": "DsDDNXRKN8Bo",
        "outputId": "8610b82c-a6ff-4161-c245-b272806335df"
      },
      "execution_count": 117,
      "outputs": [
        {
          "output_type": "execute_result",
          "data": {
            "text/plain": [
              "(-4.853127632273804,\n",
              " 3.5904868454156595,\n",
              " -0.2344162163911077,\n",
              " 0.0,\n",
              " 0.0,\n",
              " 1.5707963267948966,\n",
              " 34.0,\n",
              " 33.0)"
            ]
          },
          "metadata": {},
          "execution_count": 117
        }
      ]
    },
    {
      "cell_type": "code",
      "source": [
        "processed_data = pd.DataFrame(values,columns=['start_x','start_y','start_yaw','target_x','target_y','target_yaw','type','offset'])"
      ],
      "metadata": {
        "id": "aNYo6hUdTCge"
      },
      "execution_count": 118,
      "outputs": []
    },
    {
      "cell_type": "code",
      "source": [
        "processed_data"
      ],
      "metadata": {
        "colab": {
          "base_uri": "https://localhost:8080/",
          "height": 426
        },
        "id": "d0BJHppRTk6t",
        "outputId": "f84256cd-0a7b-41e4-dfdf-2605b1cd0ad5"
      },
      "execution_count": 119,
      "outputs": [
        {
          "output_type": "execute_result",
          "data": {
            "text/plain": [
              "     start_x   start_y  start_yaw  target_x  target_y  target_yaw  type  \\\n",
              "0  -4.853128  3.590487  -0.234416       0.0       0.0    1.570796  34.0   \n",
              "1  -4.853128  3.590487  -0.234416       0.0       0.0    1.570796  34.0   \n",
              "2  -4.853128  3.590487  -0.234416       0.0       0.0    1.570796  34.0   \n",
              "3  -4.853128  3.590487  -0.234416       0.0       0.0    1.570796  34.0   \n",
              "4  -4.853128  3.590487  -0.234416       0.0       0.0    1.570796  34.0   \n",
              "5  -4.853128  3.590487  -0.234416       0.0       0.0    1.570796  34.0   \n",
              "6  -4.853128  3.590487  -0.234416       0.0       0.0    1.570796  34.0   \n",
              "7  -4.853128  3.590487  -0.234416       0.0       0.0    1.570796  34.0   \n",
              "8  -4.853128  3.590487  -0.234416       0.0       0.0    1.570796  34.0   \n",
              "9  -4.853128  3.590487  -0.234416       0.0       0.0    1.570796  34.0   \n",
              "10 -4.853128  3.590487  -0.234416       0.0       0.0    1.570796  34.0   \n",
              "11 -4.853128  3.590487  -0.234416       0.0       0.0    1.570796  34.0   \n",
              "\n",
              "    offset  \n",
              "0     33.0  \n",
              "1     33.0  \n",
              "2     33.0  \n",
              "3     33.0  \n",
              "4     33.0  \n",
              "5     33.0  \n",
              "6     33.0  \n",
              "7     33.0  \n",
              "8     33.0  \n",
              "9     33.0  \n",
              "10    33.0  \n",
              "11    33.0  "
            ],
            "text/html": [
              "\n",
              "  <div id=\"df-e2d1686e-c027-4fc2-89be-bb6a6a307d9e\">\n",
              "    <div class=\"colab-df-container\">\n",
              "      <div>\n",
              "<style scoped>\n",
              "    .dataframe tbody tr th:only-of-type {\n",
              "        vertical-align: middle;\n",
              "    }\n",
              "\n",
              "    .dataframe tbody tr th {\n",
              "        vertical-align: top;\n",
              "    }\n",
              "\n",
              "    .dataframe thead th {\n",
              "        text-align: right;\n",
              "    }\n",
              "</style>\n",
              "<table border=\"1\" class=\"dataframe\">\n",
              "  <thead>\n",
              "    <tr style=\"text-align: right;\">\n",
              "      <th></th>\n",
              "      <th>start_x</th>\n",
              "      <th>start_y</th>\n",
              "      <th>start_yaw</th>\n",
              "      <th>target_x</th>\n",
              "      <th>target_y</th>\n",
              "      <th>target_yaw</th>\n",
              "      <th>type</th>\n",
              "      <th>offset</th>\n",
              "    </tr>\n",
              "  </thead>\n",
              "  <tbody>\n",
              "    <tr>\n",
              "      <th>0</th>\n",
              "      <td>-4.853128</td>\n",
              "      <td>3.590487</td>\n",
              "      <td>-0.234416</td>\n",
              "      <td>0.0</td>\n",
              "      <td>0.0</td>\n",
              "      <td>1.570796</td>\n",
              "      <td>34.0</td>\n",
              "      <td>33.0</td>\n",
              "    </tr>\n",
              "    <tr>\n",
              "      <th>1</th>\n",
              "      <td>-4.853128</td>\n",
              "      <td>3.590487</td>\n",
              "      <td>-0.234416</td>\n",
              "      <td>0.0</td>\n",
              "      <td>0.0</td>\n",
              "      <td>1.570796</td>\n",
              "      <td>34.0</td>\n",
              "      <td>33.0</td>\n",
              "    </tr>\n",
              "    <tr>\n",
              "      <th>2</th>\n",
              "      <td>-4.853128</td>\n",
              "      <td>3.590487</td>\n",
              "      <td>-0.234416</td>\n",
              "      <td>0.0</td>\n",
              "      <td>0.0</td>\n",
              "      <td>1.570796</td>\n",
              "      <td>34.0</td>\n",
              "      <td>33.0</td>\n",
              "    </tr>\n",
              "    <tr>\n",
              "      <th>3</th>\n",
              "      <td>-4.853128</td>\n",
              "      <td>3.590487</td>\n",
              "      <td>-0.234416</td>\n",
              "      <td>0.0</td>\n",
              "      <td>0.0</td>\n",
              "      <td>1.570796</td>\n",
              "      <td>34.0</td>\n",
              "      <td>33.0</td>\n",
              "    </tr>\n",
              "    <tr>\n",
              "      <th>4</th>\n",
              "      <td>-4.853128</td>\n",
              "      <td>3.590487</td>\n",
              "      <td>-0.234416</td>\n",
              "      <td>0.0</td>\n",
              "      <td>0.0</td>\n",
              "      <td>1.570796</td>\n",
              "      <td>34.0</td>\n",
              "      <td>33.0</td>\n",
              "    </tr>\n",
              "    <tr>\n",
              "      <th>5</th>\n",
              "      <td>-4.853128</td>\n",
              "      <td>3.590487</td>\n",
              "      <td>-0.234416</td>\n",
              "      <td>0.0</td>\n",
              "      <td>0.0</td>\n",
              "      <td>1.570796</td>\n",
              "      <td>34.0</td>\n",
              "      <td>33.0</td>\n",
              "    </tr>\n",
              "    <tr>\n",
              "      <th>6</th>\n",
              "      <td>-4.853128</td>\n",
              "      <td>3.590487</td>\n",
              "      <td>-0.234416</td>\n",
              "      <td>0.0</td>\n",
              "      <td>0.0</td>\n",
              "      <td>1.570796</td>\n",
              "      <td>34.0</td>\n",
              "      <td>33.0</td>\n",
              "    </tr>\n",
              "    <tr>\n",
              "      <th>7</th>\n",
              "      <td>-4.853128</td>\n",
              "      <td>3.590487</td>\n",
              "      <td>-0.234416</td>\n",
              "      <td>0.0</td>\n",
              "      <td>0.0</td>\n",
              "      <td>1.570796</td>\n",
              "      <td>34.0</td>\n",
              "      <td>33.0</td>\n",
              "    </tr>\n",
              "    <tr>\n",
              "      <th>8</th>\n",
              "      <td>-4.853128</td>\n",
              "      <td>3.590487</td>\n",
              "      <td>-0.234416</td>\n",
              "      <td>0.0</td>\n",
              "      <td>0.0</td>\n",
              "      <td>1.570796</td>\n",
              "      <td>34.0</td>\n",
              "      <td>33.0</td>\n",
              "    </tr>\n",
              "    <tr>\n",
              "      <th>9</th>\n",
              "      <td>-4.853128</td>\n",
              "      <td>3.590487</td>\n",
              "      <td>-0.234416</td>\n",
              "      <td>0.0</td>\n",
              "      <td>0.0</td>\n",
              "      <td>1.570796</td>\n",
              "      <td>34.0</td>\n",
              "      <td>33.0</td>\n",
              "    </tr>\n",
              "    <tr>\n",
              "      <th>10</th>\n",
              "      <td>-4.853128</td>\n",
              "      <td>3.590487</td>\n",
              "      <td>-0.234416</td>\n",
              "      <td>0.0</td>\n",
              "      <td>0.0</td>\n",
              "      <td>1.570796</td>\n",
              "      <td>34.0</td>\n",
              "      <td>33.0</td>\n",
              "    </tr>\n",
              "    <tr>\n",
              "      <th>11</th>\n",
              "      <td>-4.853128</td>\n",
              "      <td>3.590487</td>\n",
              "      <td>-0.234416</td>\n",
              "      <td>0.0</td>\n",
              "      <td>0.0</td>\n",
              "      <td>1.570796</td>\n",
              "      <td>34.0</td>\n",
              "      <td>33.0</td>\n",
              "    </tr>\n",
              "  </tbody>\n",
              "</table>\n",
              "</div>\n",
              "      <button class=\"colab-df-convert\" onclick=\"convertToInteractive('df-e2d1686e-c027-4fc2-89be-bb6a6a307d9e')\"\n",
              "              title=\"Convert this dataframe to an interactive table.\"\n",
              "              style=\"display:none;\">\n",
              "        \n",
              "  <svg xmlns=\"http://www.w3.org/2000/svg\" height=\"24px\"viewBox=\"0 0 24 24\"\n",
              "       width=\"24px\">\n",
              "    <path d=\"M0 0h24v24H0V0z\" fill=\"none\"/>\n",
              "    <path d=\"M18.56 5.44l.94 2.06.94-2.06 2.06-.94-2.06-.94-.94-2.06-.94 2.06-2.06.94zm-11 1L8.5 8.5l.94-2.06 2.06-.94-2.06-.94L8.5 2.5l-.94 2.06-2.06.94zm10 10l.94 2.06.94-2.06 2.06-.94-2.06-.94-.94-2.06-.94 2.06-2.06.94z\"/><path d=\"M17.41 7.96l-1.37-1.37c-.4-.4-.92-.59-1.43-.59-.52 0-1.04.2-1.43.59L10.3 9.45l-7.72 7.72c-.78.78-.78 2.05 0 2.83L4 21.41c.39.39.9.59 1.41.59.51 0 1.02-.2 1.41-.59l7.78-7.78 2.81-2.81c.8-.78.8-2.07 0-2.86zM5.41 20L4 18.59l7.72-7.72 1.47 1.35L5.41 20z\"/>\n",
              "  </svg>\n",
              "      </button>\n",
              "      \n",
              "  <style>\n",
              "    .colab-df-container {\n",
              "      display:flex;\n",
              "      flex-wrap:wrap;\n",
              "      gap: 12px;\n",
              "    }\n",
              "\n",
              "    .colab-df-convert {\n",
              "      background-color: #E8F0FE;\n",
              "      border: none;\n",
              "      border-radius: 50%;\n",
              "      cursor: pointer;\n",
              "      display: none;\n",
              "      fill: #1967D2;\n",
              "      height: 32px;\n",
              "      padding: 0 0 0 0;\n",
              "      width: 32px;\n",
              "    }\n",
              "\n",
              "    .colab-df-convert:hover {\n",
              "      background-color: #E2EBFA;\n",
              "      box-shadow: 0px 1px 2px rgba(60, 64, 67, 0.3), 0px 1px 3px 1px rgba(60, 64, 67, 0.15);\n",
              "      fill: #174EA6;\n",
              "    }\n",
              "\n",
              "    [theme=dark] .colab-df-convert {\n",
              "      background-color: #3B4455;\n",
              "      fill: #D2E3FC;\n",
              "    }\n",
              "\n",
              "    [theme=dark] .colab-df-convert:hover {\n",
              "      background-color: #434B5C;\n",
              "      box-shadow: 0px 1px 3px 1px rgba(0, 0, 0, 0.15);\n",
              "      filter: drop-shadow(0px 1px 2px rgba(0, 0, 0, 0.3));\n",
              "      fill: #FFFFFF;\n",
              "    }\n",
              "  </style>\n",
              "\n",
              "      <script>\n",
              "        const buttonEl =\n",
              "          document.querySelector('#df-e2d1686e-c027-4fc2-89be-bb6a6a307d9e button.colab-df-convert');\n",
              "        buttonEl.style.display =\n",
              "          google.colab.kernel.accessAllowed ? 'block' : 'none';\n",
              "\n",
              "        async function convertToInteractive(key) {\n",
              "          const element = document.querySelector('#df-e2d1686e-c027-4fc2-89be-bb6a6a307d9e');\n",
              "          const dataTable =\n",
              "            await google.colab.kernel.invokeFunction('convertToInteractive',\n",
              "                                                     [key], {});\n",
              "          if (!dataTable) return;\n",
              "\n",
              "          const docLinkHtml = 'Like what you see? Visit the ' +\n",
              "            '<a target=\"_blank\" href=https://colab.research.google.com/notebooks/data_table.ipynb>data table notebook</a>'\n",
              "            + ' to learn more about interactive tables.';\n",
              "          element.innerHTML = '';\n",
              "          dataTable['output_type'] = 'display_data';\n",
              "          await google.colab.output.renderOutput(dataTable, element);\n",
              "          const docLink = document.createElement('div');\n",
              "          docLink.innerHTML = docLinkHtml;\n",
              "          element.appendChild(docLink);\n",
              "        }\n",
              "      </script>\n",
              "    </div>\n",
              "  </div>\n",
              "  "
            ]
          },
          "metadata": {},
          "execution_count": 119
        }
      ]
    },
    {
      "cell_type": "code",
      "source": [
        "processed_data.to_csv('/content/train_data_sim.csv')"
      ],
      "metadata": {
        "id": "pHCVhLtOTpiM"
      },
      "execution_count": 121,
      "outputs": []
    }
  ],
  "metadata": {
    "colab": {
      "name": "Welcome To Colaboratory",
      "provenance": [],
      "include_colab_link": true
    },
    "kernelspec": {
      "display_name": "Python 3",
      "name": "python3"
    }
  },
  "nbformat": 4,
  "nbformat_minor": 0
}